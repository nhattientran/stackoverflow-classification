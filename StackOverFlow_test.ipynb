{
  "nbformat": 4,
  "nbformat_minor": 0,
  "metadata": {
    "colab": {
      "name": "StackOverFlow.ipynb",
      "provenance": [],
      "toc_visible": true,
      "include_colab_link": true
    },
    "kernelspec": {
      "name": "python3",
      "display_name": "Python 3"
    },
    "accelerator": "GPU"
  },
  "cells": [
    {
      "cell_type": "markdown",
      "metadata": {
        "id": "view-in-github",
        "colab_type": "text"
      },
      "source": [
        "<a href=\"https://colab.research.google.com/github/nhattientran/stackoverflow-classification-question/blob/master/StackOverFlow_test.ipynb\" target=\"_parent\"><img src=\"https://colab.research.google.com/assets/colab-badge.svg\" alt=\"Open In Colab\"/></a>"
      ]
    },
    {
      "cell_type": "markdown",
      "metadata": {
        "id": "M0NzOB01DYqz",
        "colab_type": "text"
      },
      "source": [
        "#1 : Tiền xử lý dữ liệu"
      ]
    },
    {
      "cell_type": "code",
      "metadata": {
        "id": "0VC7EyDFpQYO",
        "colab_type": "code",
        "colab": {}
      },
      "source": [
        "import pandas as pd\n",
        "url = \"https://github.com/nhattientran/stackoverflow-classification-question/blob/master/dataset/full_dataset_v3.csv?raw=true\"\n",
        "data = pd.read_csv(url,delimiter=\";\")"
      ],
      "execution_count": 45,
      "outputs": []
    },
    {
      "cell_type": "code",
      "metadata": {
        "id": "Vjy4OcZwCq1U",
        "colab_type": "code",
        "colab": {
          "base_uri": "https://localhost:8080/",
          "height": 204
        },
        "outputId": "0b15fc0f-1e97-4285-a3dc-a7a06db53c14"
      },
      "source": [
        "data.head()"
      ],
      "execution_count": 46,
      "outputs": [
        {
          "output_type": "execute_result",
          "data": {
            "text/html": [
              "<div>\n",
              "<style scoped>\n",
              "    .dataframe tbody tr th:only-of-type {\n",
              "        vertical-align: middle;\n",
              "    }\n",
              "\n",
              "    .dataframe tbody tr th {\n",
              "        vertical-align: top;\n",
              "    }\n",
              "\n",
              "    .dataframe thead th {\n",
              "        text-align: right;\n",
              "    }\n",
              "</style>\n",
              "<table border=\"1\" class=\"dataframe\">\n",
              "  <thead>\n",
              "    <tr style=\"text-align: right;\">\n",
              "      <th></th>\n",
              "      <th>title</th>\n",
              "      <th>id_stack</th>\n",
              "      <th>tags</th>\n",
              "      <th>views</th>\n",
              "      <th>score</th>\n",
              "      <th>done</th>\n",
              "      <th>label</th>\n",
              "    </tr>\n",
              "  </thead>\n",
              "  <tbody>\n",
              "    <tr>\n",
              "      <th>0</th>\n",
              "      <td>Using entries from other kivy classes</td>\n",
              "      <td>61881920</td>\n",
              "      <td>['python', 'python-3.x', 'kivy']</td>\n",
              "      <td>12</td>\n",
              "      <td>0</td>\n",
              "      <td>False</td>\n",
              "      <td>python</td>\n",
              "    </tr>\n",
              "    <tr>\n",
              "      <th>1</th>\n",
              "      <td>Package python software with pylucene dependency</td>\n",
              "      <td>61896481</td>\n",
              "      <td>['python', 'docker', 'pip', 'dependencies', 'p...</td>\n",
              "      <td>7</td>\n",
              "      <td>1</td>\n",
              "      <td>False</td>\n",
              "      <td>python</td>\n",
              "    </tr>\n",
              "    <tr>\n",
              "      <th>2</th>\n",
              "      <td>Extracting time with regex from a string</td>\n",
              "      <td>61894597</td>\n",
              "      <td>['python', 'regex']</td>\n",
              "      <td>29</td>\n",
              "      <td>3</td>\n",
              "      <td>False</td>\n",
              "      <td>python</td>\n",
              "    </tr>\n",
              "    <tr>\n",
              "      <th>3</th>\n",
              "      <td>How do I add specific headers before each form...</td>\n",
              "      <td>61896721</td>\n",
              "      <td>['python', 'django']</td>\n",
              "      <td>4</td>\n",
              "      <td>0</td>\n",
              "      <td>False</td>\n",
              "      <td>python</td>\n",
              "    </tr>\n",
              "    <tr>\n",
              "      <th>4</th>\n",
              "      <td>Barplot from a dataframe using a column to set...</td>\n",
              "      <td>61896506</td>\n",
              "      <td>['python', 'pandas', 'bar-chart', 'seaborn', '...</td>\n",
              "      <td>12</td>\n",
              "      <td>0</td>\n",
              "      <td>True</td>\n",
              "      <td>python</td>\n",
              "    </tr>\n",
              "  </tbody>\n",
              "</table>\n",
              "</div>"
            ],
            "text/plain": [
              "                                               title  id_stack  ...   done   label\n",
              "0              Using entries from other kivy classes  61881920  ...  False  python\n",
              "1   Package python software with pylucene dependency  61896481  ...  False  python\n",
              "2           Extracting time with regex from a string  61894597  ...  False  python\n",
              "3  How do I add specific headers before each form...  61896721  ...  False  python\n",
              "4  Barplot from a dataframe using a column to set...  61896506  ...   True  python\n",
              "\n",
              "[5 rows x 7 columns]"
            ]
          },
          "metadata": {
            "tags": []
          },
          "execution_count": 46
        }
      ]
    },
    {
      "cell_type": "code",
      "metadata": {
        "id": "iE-plmyACy7r",
        "colab_type": "code",
        "colab": {
          "base_uri": "https://localhost:8080/",
          "height": 204
        },
        "outputId": "62415398-2dc7-4bf0-d6fd-33d43274010c"
      },
      "source": [
        "data.tail()"
      ],
      "execution_count": 47,
      "outputs": [
        {
          "output_type": "execute_result",
          "data": {
            "text/html": [
              "<div>\n",
              "<style scoped>\n",
              "    .dataframe tbody tr th:only-of-type {\n",
              "        vertical-align: middle;\n",
              "    }\n",
              "\n",
              "    .dataframe tbody tr th {\n",
              "        vertical-align: top;\n",
              "    }\n",
              "\n",
              "    .dataframe thead th {\n",
              "        text-align: right;\n",
              "    }\n",
              "</style>\n",
              "<table border=\"1\" class=\"dataframe\">\n",
              "  <thead>\n",
              "    <tr style=\"text-align: right;\">\n",
              "      <th></th>\n",
              "      <th>title</th>\n",
              "      <th>id_stack</th>\n",
              "      <th>tags</th>\n",
              "      <th>views</th>\n",
              "      <th>score</th>\n",
              "      <th>done</th>\n",
              "      <th>label</th>\n",
              "    </tr>\n",
              "  </thead>\n",
              "  <tbody>\n",
              "    <tr>\n",
              "      <th>75329</th>\n",
              "      <td>Php Monolog udp SocketHandler packet size</td>\n",
              "      <td>62436746</td>\n",
              "      <td>['php', 'udp', 'logstash', 'monolog']</td>\n",
              "      <td>16</td>\n",
              "      <td>1</td>\n",
              "      <td>False</td>\n",
              "      <td>php</td>\n",
              "    </tr>\n",
              "    <tr>\n",
              "      <th>75330</th>\n",
              "      <td>PHP CURL issue | Header Context Type is not se...</td>\n",
              "      <td>62435600</td>\n",
              "      <td>['php', 'curl']</td>\n",
              "      <td>11</td>\n",
              "      <td>0</td>\n",
              "      <td>False</td>\n",
              "      <td>php</td>\n",
              "    </tr>\n",
              "    <tr>\n",
              "      <th>75331</th>\n",
              "      <td>How can I delete data of single row in PHP dyn...</td>\n",
              "      <td>62436423</td>\n",
              "      <td>['php', 'html']</td>\n",
              "      <td>15</td>\n",
              "      <td>-3</td>\n",
              "      <td>False</td>\n",
              "      <td>php</td>\n",
              "    </tr>\n",
              "    <tr>\n",
              "      <th>75332</th>\n",
              "      <td>How to make custom associative array using an ...</td>\n",
              "      <td>62435957</td>\n",
              "      <td>['php', 'arrays', 'laravel', 'associative-array']</td>\n",
              "      <td>29</td>\n",
              "      <td>0</td>\n",
              "      <td>True</td>\n",
              "      <td>php</td>\n",
              "    </tr>\n",
              "    <tr>\n",
              "      <th>75333</th>\n",
              "      <td>base64 image to imagecreatefromstring() losing...</td>\n",
              "      <td>42385529</td>\n",
              "      <td>['javascript', 'php', 'base64', 'filereader', ...</td>\n",
              "      <td>817</td>\n",
              "      <td>1</td>\n",
              "      <td>True</td>\n",
              "      <td>php</td>\n",
              "    </tr>\n",
              "  </tbody>\n",
              "</table>\n",
              "</div>"
            ],
            "text/plain": [
              "                                                   title  id_stack  ...   done  label\n",
              "75329          Php Monolog udp SocketHandler packet size  62436746  ...  False    php\n",
              "75330  PHP CURL issue | Header Context Type is not se...  62435600  ...  False    php\n",
              "75331  How can I delete data of single row in PHP dyn...  62436423  ...  False    php\n",
              "75332  How to make custom associative array using an ...  62435957  ...   True    php\n",
              "75333  base64 image to imagecreatefromstring() losing...  42385529  ...   True    php\n",
              "\n",
              "[5 rows x 7 columns]"
            ]
          },
          "metadata": {
            "tags": []
          },
          "execution_count": 47
        }
      ]
    },
    {
      "cell_type": "code",
      "metadata": {
        "id": "UbMkm3vzqvMs",
        "colab_type": "code",
        "colab": {
          "base_uri": "https://localhost:8080/",
          "height": 255
        },
        "outputId": "4395f0b9-bd09-4f2b-8cf9-96b42dd28eef"
      },
      "source": [
        "data.info()"
      ],
      "execution_count": 48,
      "outputs": [
        {
          "output_type": "stream",
          "text": [
            "<class 'pandas.core.frame.DataFrame'>\n",
            "RangeIndex: 75334 entries, 0 to 75333\n",
            "Data columns (total 7 columns):\n",
            " #   Column    Non-Null Count  Dtype \n",
            "---  ------    --------------  ----- \n",
            " 0   title     75334 non-null  object\n",
            " 1   id_stack  75334 non-null  int64 \n",
            " 2   tags      75334 non-null  object\n",
            " 3   views     75334 non-null  int64 \n",
            " 4   score     75334 non-null  int64 \n",
            " 5   done      75334 non-null  bool  \n",
            " 6   label     75334 non-null  object\n",
            "dtypes: bool(1), int64(3), object(3)\n",
            "memory usage: 3.5+ MB\n"
          ],
          "name": "stdout"
        }
      ]
    },
    {
      "cell_type": "code",
      "metadata": {
        "id": "uO3nNtiLlxNT",
        "colab_type": "code",
        "colab": {
          "base_uri": "https://localhost:8080/",
          "height": 34
        },
        "outputId": "ee43aeda-5d48-4e87-9feb-331843c1b9e4"
      },
      "source": [
        "data.shape"
      ],
      "execution_count": 49,
      "outputs": [
        {
          "output_type": "execute_result",
          "data": {
            "text/plain": [
              "(75334, 7)"
            ]
          },
          "metadata": {
            "tags": []
          },
          "execution_count": 49
        }
      ]
    },
    {
      "cell_type": "code",
      "metadata": {
        "id": "tKr4hlzJq1xr",
        "colab_type": "code",
        "colab": {
          "base_uri": "https://localhost:8080/",
          "height": 386
        },
        "outputId": "1d17f8fe-0bf7-4392-97f1-e2fd21e1c470"
      },
      "source": [
        "import seaborn as sns\n",
        "sns.catplot(x=\"label\",kind=\"count\",data=data)"
      ],
      "execution_count": 50,
      "outputs": [
        {
          "output_type": "execute_result",
          "data": {
            "text/plain": [
              "<seaborn.axisgrid.FacetGrid at 0x7f59edf94e10>"
            ]
          },
          "metadata": {
            "tags": []
          },
          "execution_count": 50
        },
        {
          "output_type": "display_data",
          "data": {
            "image/png": "[encoded data removed]",
            "text/plain": [
              "<Figure size 360x360 with 1 Axes>"
            ]
          },
          "metadata": {
            "tags": [],
            "needs_background": "light"
          }
        }
      ]
    },
    {
      "cell_type": "code",
      "metadata": {
        "id": "QtrZOn20rzd2",
        "colab_type": "code",
        "colab": {
          "base_uri": "https://localhost:8080/",
          "height": 51
        },
        "outputId": "58dbef2e-eaff-465b-8020-c4118be17bed"
      },
      "source": [
        "import nltk\n",
        "import re\n",
        "nltk.download(\"stopwords\")\n",
        "from nltk.corpus import stopwords\n",
        "from nltk.stem.porter import PorterStemmer"
      ],
      "execution_count": 51,
      "outputs": [
        {
          "output_type": "stream",
          "text": [
            "[nltk_data] Downloading package stopwords to /root/nltk_data...\n",
            "[nltk_data]   Package stopwords is already up-to-date!\n"
          ],
          "name": "stdout"
        }
      ]
    },
    {
      "cell_type": "code",
      "metadata": {
        "id": "_yHdxXC4qHs3",
        "colab_type": "code",
        "colab": {}
      },
      "source": [
        "text = data['title']\n",
        "def preprocessor(review):\n",
        "  review=re.sub('<[^>]*>', '', review)\n",
        "  emoticons = re.findall('(?::|;|=)(?:-)?(?:\\)|\\(|D|P)',review)\n",
        "  review = (re.sub('[\\W]+', ' ', review.lower()) +' '.join(emoticons).replace('-', ''))\n",
        "  review = review.split()\n",
        "  ps = PorterStemmer()\n",
        "  review = [ps.stem(word) for word in review if word not in stopwords.words(\"english\")]\n",
        "  review = \" \".join(review)\n",
        "  return review\n",
        "text = text.apply(preprocessor)"
      ],
      "execution_count": 52,
      "outputs": []
    },
    {
      "cell_type": "markdown",
      "metadata": {
        "id": "cByhU02PB51q",
        "colab_type": "text"
      },
      "source": [
        "Word2Vec"
      ]
    },
    {
      "cell_type": "code",
      "metadata": {
        "id": "t73y6RxhsoHU",
        "colab_type": "code",
        "colab": {}
      },
      "source": [
        "import gensim\n",
        "sent = ([row.split() for row in text])\n",
        "w2v = gensim.models.Word2Vec(sent,size=300,min_count=1,iter=10)"
      ],
      "execution_count": 53,
      "outputs": []
    },
    {
      "cell_type": "code",
      "metadata": {
        "id": "CjFhT72kpn-k",
        "colab_type": "code",
        "colab": {}
      },
      "source": [
        "import numpy as np\n",
        "embedding_matrix = np.zeros((len(w2v.wv.vocab) + 1, 300))\n",
        "for i, vec in enumerate(w2v.wv.vectors):\n",
        "  embedding_matrix[i] = vec"
      ],
      "execution_count": 54,
      "outputs": []
    },
    {
      "cell_type": "markdown",
      "metadata": {
        "id": "mocRd1mE-rjh",
        "colab_type": "text"
      },
      "source": [
        " Tfidf"
      ]
    },
    {
      "cell_type": "code",
      "metadata": {
        "id": "3FVJyMr8-caC",
        "colab_type": "code",
        "colab": {}
      },
      "source": [
        "from sklearn.feature_extraction.text import CountVectorizer, TfidfVectorizer\n",
        "tf = CountVectorizer(min_df = 5,max_df = 0.8,max_features=3000)\n",
        "X_tf = tf.fit_transform(text)"
      ],
      "execution_count": 55,
      "outputs": []
    },
    {
      "cell_type": "markdown",
      "metadata": {
        "id": "Si-teL9aBVJO",
        "colab_type": "text"
      },
      "source": [
        "Tokenizer"
      ]
    },
    {
      "cell_type": "code",
      "metadata": {
        "id": "7ifD5ve_NaUB",
        "colab_type": "code",
        "colab": {
          "base_uri": "https://localhost:8080/",
          "height": 34
        },
        "outputId": "e2578058-6c56-47b3-a2f6-69fe1f015a25"
      },
      "source": [
        "from tensorflow.keras.preprocessing.text import Tokenizer\n",
        "tokenizer = Tokenizer(num_words=len(w2v.wv.vocab)+1)\n",
        "tokenizer.fit_on_texts(text)\n",
        "word_index = tokenizer.word_index\n",
        "print('Found %s unique tokens.' % len(word_index))"
      ],
      "execution_count": 56,
      "outputs": [
        {
          "output_type": "stream",
          "text": [
            "Found 22340 unique tokens.\n"
          ],
          "name": "stdout"
        }
      ]
    },
    {
      "cell_type": "code",
      "metadata": {
        "id": "UuLvwLX5Q3fb",
        "colab_type": "code",
        "colab": {
          "base_uri": "https://localhost:8080/",
          "height": 34
        },
        "outputId": "49738651-4bf6-498c-df93-2ca715cff156"
      },
      "source": [
        "from tensorflow.keras.preprocessing.sequence import pad_sequences\n",
        "X = tokenizer.texts_to_sequences(text)\n",
        "X = pad_sequences(X)\n",
        "print('Shape of data tensor:', X.shape)"
      ],
      "execution_count": 57,
      "outputs": [
        {
          "output_type": "stream",
          "text": [
            "Shape of data tensor: (75334, 31)\n"
          ],
          "name": "stdout"
        }
      ]
    },
    {
      "cell_type": "markdown",
      "metadata": {
        "id": "3fBD2cS7CAxf",
        "colab_type": "text"
      },
      "source": [
        "Train_test_split"
      ]
    },
    {
      "cell_type": "code",
      "metadata": {
        "id": "YrUmYIqvtXcv",
        "colab_type": "code",
        "colab": {}
      },
      "source": [
        "from sklearn.model_selection import train_test_split\n",
        "X_train, X_test,Y_train,Y_test = train_test_split(X,Y,train_size=0.8,random_state=0) "
      ],
      "execution_count": 58,
      "outputs": []
    },
    {
      "cell_type": "code",
      "metadata": {
        "id": "S1gxWdNTA6Uq",
        "colab_type": "code",
        "colab": {}
      },
      "source": [
        "X_train_tf, X_test_tf,Y_train_tf,Y_test_tf = train_test_split(X_tf,data['label'],train_size=0.8,random_state=0) "
      ],
      "execution_count": 59,
      "outputs": []
    },
    {
      "cell_type": "markdown",
      "metadata": {
        "id": "ViCRD_2ADmbB",
        "colab_type": "text"
      },
      "source": [
        "#2 : Huấn luyện mô hình"
      ]
    },
    {
      "cell_type": "markdown",
      "metadata": {
        "id": "gnUOx0L76ORC",
        "colab_type": "text"
      },
      "source": [
        "LSTM"
      ]
    },
    {
      "cell_type": "code",
      "metadata": {
        "id": "ND6k7axv6L59",
        "colab_type": "code",
        "colab": {
          "base_uri": "https://localhost:8080/",
          "height": 255
        },
        "outputId": "443f1ea7-b7e1-46bb-ad27-52ef5aedb0c4"
      },
      "source": [
        "from tensorflow.keras import layers\n",
        "import tensorflow as tf\n",
        "from tensorflow import keras\n",
        "model = keras.Sequential()\n",
        "model.add(layers.Embedding(len(w2v.wv.vocab)+1,300,input_length=X.shape[1],weights=[embedding_matrix]))\n",
        "model.add(layers.LSTM(300))\n",
        "model.add(layers.Dense(Y.shape[1],activation=\"softmax\"))\n",
        "model.summary()"
      ],
      "execution_count": 82,
      "outputs": [
        {
          "output_type": "stream",
          "text": [
            "Model: \"sequential_9\"\n",
            "_________________________________________________________________\n",
            "Layer (type)                 Output Shape              Param #   \n",
            "=================================================================\n",
            "embedding_9 (Embedding)      (None, 31, 300)           7142700   \n",
            "_________________________________________________________________\n",
            "lstm_9 (LSTM)                (None, 300)               721200    \n",
            "_________________________________________________________________\n",
            "dense_9 (Dense)              (None, 5)                 1505      \n",
            "=================================================================\n",
            "Total params: 7,865,405\n",
            "Trainable params: 7,865,405\n",
            "Non-trainable params: 0\n",
            "_________________________________________________________________\n"
          ],
          "name": "stdout"
        }
      ]
    },
    {
      "cell_type": "code",
      "metadata": {
        "id": "RKN3ztzTMHiZ",
        "colab_type": "code",
        "colab": {}
      },
      "source": [
        "model.compile(loss='categorical_crossentropy', optimizer='rmsprop', metrics=['accuracy'])"
      ],
      "execution_count": 83,
      "outputs": []
    },
    {
      "cell_type": "code",
      "metadata": {
        "id": "iBTWscv2MR6P",
        "colab_type": "code",
        "colab": {}
      },
      "source": [
        "for i in range(5) : \n",
        "  model.fit(X_train,Y_train,batch_size = 64 ,epochs=1,verbose=0)\n",
        "  print(\"LSTM accuracy : \",model.evaluate(X_test,Y_test))"
      ],
      "execution_count": null,
      "outputs": []
    },
    {
      "cell_type": "markdown",
      "metadata": {
        "id": "eCqdmBGcCRy6",
        "colab_type": "text"
      },
      "source": [
        "SVM\n"
      ]
    },
    {
      "cell_type": "code",
      "metadata": {
        "id": "z7MuVl9g9Yoy",
        "colab_type": "code",
        "colab": {
          "base_uri": "https://localhost:8080/",
          "height": 85
        },
        "outputId": "4a792281-35e0-40cc-8b53-1626a2c97a45"
      },
      "source": [
        "from sklearn.svm import SVC\n",
        "classifier = SVC(kernel = 'linear')\n",
        "classifier.fit(X_train_tf,Y_train_tf)"
      ],
      "execution_count": 63,
      "outputs": [
        {
          "output_type": "execute_result",
          "data": {
            "text/plain": [
              "SVC(C=1.0, break_ties=False, cache_size=200, class_weight=None, coef0=0.0,\n",
              "    decision_function_shape='ovr', degree=3, gamma='scale', kernel='linear',\n",
              "    max_iter=-1, probability=False, random_state=None, shrinking=True,\n",
              "    tol=0.001, verbose=False)"
            ]
          },
          "metadata": {
            "tags": []
          },
          "execution_count": 63
        }
      ]
    },
    {
      "cell_type": "markdown",
      "metadata": {
        "id": "JJ2HtVLFDvB-",
        "colab_type": "text"
      },
      "source": [
        "#3 : Đánh giá mô hình"
      ]
    },
    {
      "cell_type": "code",
      "metadata": {
        "id": "JQ_0gwQosTPb",
        "colab_type": "code",
        "colab": {
          "base_uri": "https://localhost:8080/",
          "height": 51
        },
        "outputId": "99694865-e692-4135-c77b-a69c4d38c478"
      },
      "source": [
        "print(\"LSTM accuracy : \",model.evaluate(X_test,Y_test))"
      ],
      "execution_count": 64,
      "outputs": [
        {
          "output_type": "stream",
          "text": [
            "471/471 [==============================] - 4s 9ms/step - loss: 0.5366 - accuracy: 0.8258\n",
            "LSTM accuracy :  [0.536639392375946, 0.8258445858955383]\n"
          ],
          "name": "stdout"
        }
      ]
    },
    {
      "cell_type": "code",
      "metadata": {
        "id": "YDq1nC4z9v19",
        "colab_type": "code",
        "colab": {
          "base_uri": "https://localhost:8080/",
          "height": 34
        },
        "outputId": "370ca1bf-cd5b-4c86-e5dc-abba2e294b26"
      },
      "source": [
        "print(\"SVM accuracy : \",classifier.score(X_test_tf,Y_test_tf))"
      ],
      "execution_count": 65,
      "outputs": [
        {
          "output_type": "stream",
          "text": [
            "SVM accuracy :  0.7803809650228978\n"
          ],
          "name": "stdout"
        }
      ]
    },
    {
      "cell_type": "markdown",
      "metadata": {
        "id": "Lb4JPM0WPExZ",
        "colab_type": "text"
      },
      "source": [
        "#4 : Lưu mô hình"
      ]
    },
    {
      "cell_type": "code",
      "metadata": {
        "id": "4WwOs9UhO6Ep",
        "colab_type": "code",
        "colab": {}
      },
      "source": [
        "import joblib\n",
        "joblib.dump(classifier,'SVM.h5')\n",
        "model.save('LSTM.h5')"
      ],
      "execution_count": 66,
      "outputs": []
    }
  ]
}