{
  "nbformat": 4,
  "nbformat_minor": 0,
  "metadata": {
    "colab": {
      "name": "StackOverFlow.ipynb",
      "provenance": [],
      "include_colab_link": true
    },
    "kernelspec": {
      "name": "python3",
      "display_name": "Python 3"
    },
    "accelerator": "GPU"
  },
  "cells": [
    {
      "cell_type": "markdown",
      "metadata": {
        "id": "view-in-github",
        "colab_type": "text"
      },
      "source": [
        "<a href=\"https://colab.research.google.com/github/nhattientran/stackoverflow-classification-question/blob/master/StackOverFlow_official_v2.ipynb\" target=\"_parent\"><img src=\"https://colab.research.google.com/assets/colab-badge.svg\" alt=\"Open In Colab\"/></a>"
      ]
    },
    {
      "cell_type": "markdown",
      "metadata": {
        "id": "M0NzOB01DYqz",
        "colab_type": "text"
      },
      "source": [
        "#1 : Đọc dữ liệu"
      ]
    },
    {
      "cell_type": "code",
      "metadata": {
        "id": "0VC7EyDFpQYO",
        "colab_type": "code",
        "colab": {}
      },
      "source": [
        "import pandas as pd\n",
        "url = \"https://github.com/nhattientran/stackoverflow-classification-question/blob/master/dataset/full_dataset_v3.csv?raw=true\"\n",
        "data = pd.read_csv(url,delimiter=\";\")"
      ],
      "execution_count": 1,
      "outputs": []
    },
    {
      "cell_type": "markdown",
      "metadata": {
        "id": "ScWXXM9HL622",
        "colab_type": "text"
      },
      "source": [
        "#2 : Thống kê dữ liệu"
      ]
    },
    {
      "cell_type": "code",
      "metadata": {
        "id": "Vjy4OcZwCq1U",
        "colab_type": "code",
        "colab": {
          "base_uri": "https://localhost:8080/",
          "height": 204
        },
        "outputId": "fe660ac3-7f13-4e8f-e2ac-e720e4793903"
      },
      "source": [
        "data.head()"
      ],
      "execution_count": 2,
      "outputs": [
        {
          "output_type": "execute_result",
          "data": {
            "text/html": [
              "<div>\n",
              "<style scoped>\n",
              "    .dataframe tbody tr th:only-of-type {\n",
              "        vertical-align: middle;\n",
              "    }\n",
              "\n",
              "    .dataframe tbody tr th {\n",
              "        vertical-align: top;\n",
              "    }\n",
              "\n",
              "    .dataframe thead th {\n",
              "        text-align: right;\n",
              "    }\n",
              "</style>\n",
              "<table border=\"1\" class=\"dataframe\">\n",
              "  <thead>\n",
              "    <tr style=\"text-align: right;\">\n",
              "      <th></th>\n",
              "      <th>title</th>\n",
              "      <th>id_stack</th>\n",
              "      <th>tags</th>\n",
              "      <th>views</th>\n",
              "      <th>score</th>\n",
              "      <th>done</th>\n",
              "      <th>label</th>\n",
              "    </tr>\n",
              "  </thead>\n",
              "  <tbody>\n",
              "    <tr>\n",
              "      <th>0</th>\n",
              "      <td>Using entries from other kivy classes</td>\n",
              "      <td>61881920</td>\n",
              "      <td>['python', 'python-3.x', 'kivy']</td>\n",
              "      <td>12</td>\n",
              "      <td>0</td>\n",
              "      <td>False</td>\n",
              "      <td>python</td>\n",
              "    </tr>\n",
              "    <tr>\n",
              "      <th>1</th>\n",
              "      <td>Package python software with pylucene dependency</td>\n",
              "      <td>61896481</td>\n",
              "      <td>['python', 'docker', 'pip', 'dependencies', 'p...</td>\n",
              "      <td>7</td>\n",
              "      <td>1</td>\n",
              "      <td>False</td>\n",
              "      <td>python</td>\n",
              "    </tr>\n",
              "    <tr>\n",
              "      <th>2</th>\n",
              "      <td>Extracting time with regex from a string</td>\n",
              "      <td>61894597</td>\n",
              "      <td>['python', 'regex']</td>\n",
              "      <td>29</td>\n",
              "      <td>3</td>\n",
              "      <td>False</td>\n",
              "      <td>python</td>\n",
              "    </tr>\n",
              "    <tr>\n",
              "      <th>3</th>\n",
              "      <td>How do I add specific headers before each form...</td>\n",
              "      <td>61896721</td>\n",
              "      <td>['python', 'django']</td>\n",
              "      <td>4</td>\n",
              "      <td>0</td>\n",
              "      <td>False</td>\n",
              "      <td>python</td>\n",
              "    </tr>\n",
              "    <tr>\n",
              "      <th>4</th>\n",
              "      <td>Barplot from a dataframe using a column to set...</td>\n",
              "      <td>61896506</td>\n",
              "      <td>['python', 'pandas', 'bar-chart', 'seaborn', '...</td>\n",
              "      <td>12</td>\n",
              "      <td>0</td>\n",
              "      <td>True</td>\n",
              "      <td>python</td>\n",
              "    </tr>\n",
              "  </tbody>\n",
              "</table>\n",
              "</div>"
            ],
            "text/plain": [
              "                                               title  id_stack  ...   done   label\n",
              "0              Using entries from other kivy classes  61881920  ...  False  python\n",
              "1   Package python software with pylucene dependency  61896481  ...  False  python\n",
              "2           Extracting time with regex from a string  61894597  ...  False  python\n",
              "3  How do I add specific headers before each form...  61896721  ...  False  python\n",
              "4  Barplot from a dataframe using a column to set...  61896506  ...   True  python\n",
              "\n",
              "[5 rows x 7 columns]"
            ]
          },
          "metadata": {
            "tags": []
          },
          "execution_count": 2
        }
      ]
    },
    {
      "cell_type": "code",
      "metadata": {
        "id": "iE-plmyACy7r",
        "colab_type": "code",
        "colab": {
          "base_uri": "https://localhost:8080/",
          "height": 204
        },
        "outputId": "20bc2dfa-ab20-41fe-fd6d-8da954dfca1a"
      },
      "source": [
        "data.tail()"
      ],
      "execution_count": 3,
      "outputs": [
        {
          "output_type": "execute_result",
          "data": {
            "text/html": [
              "<div>\n",
              "<style scoped>\n",
              "    .dataframe tbody tr th:only-of-type {\n",
              "        vertical-align: middle;\n",
              "    }\n",
              "\n",
              "    .dataframe tbody tr th {\n",
              "        vertical-align: top;\n",
              "    }\n",
              "\n",
              "    .dataframe thead th {\n",
              "        text-align: right;\n",
              "    }\n",
              "</style>\n",
              "<table border=\"1\" class=\"dataframe\">\n",
              "  <thead>\n",
              "    <tr style=\"text-align: right;\">\n",
              "      <th></th>\n",
              "      <th>title</th>\n",
              "      <th>id_stack</th>\n",
              "      <th>tags</th>\n",
              "      <th>views</th>\n",
              "      <th>score</th>\n",
              "      <th>done</th>\n",
              "      <th>label</th>\n",
              "    </tr>\n",
              "  </thead>\n",
              "  <tbody>\n",
              "    <tr>\n",
              "      <th>75329</th>\n",
              "      <td>Php Monolog udp SocketHandler packet size</td>\n",
              "      <td>62436746</td>\n",
              "      <td>['php', 'udp', 'logstash', 'monolog']</td>\n",
              "      <td>16</td>\n",
              "      <td>1</td>\n",
              "      <td>False</td>\n",
              "      <td>php</td>\n",
              "    </tr>\n",
              "    <tr>\n",
              "      <th>75330</th>\n",
              "      <td>PHP CURL issue | Header Context Type is not se...</td>\n",
              "      <td>62435600</td>\n",
              "      <td>['php', 'curl']</td>\n",
              "      <td>11</td>\n",
              "      <td>0</td>\n",
              "      <td>False</td>\n",
              "      <td>php</td>\n",
              "    </tr>\n",
              "    <tr>\n",
              "      <th>75331</th>\n",
              "      <td>How can I delete data of single row in PHP dyn...</td>\n",
              "      <td>62436423</td>\n",
              "      <td>['php', 'html']</td>\n",
              "      <td>15</td>\n",
              "      <td>-3</td>\n",
              "      <td>False</td>\n",
              "      <td>php</td>\n",
              "    </tr>\n",
              "    <tr>\n",
              "      <th>75332</th>\n",
              "      <td>How to make custom associative array using an ...</td>\n",
              "      <td>62435957</td>\n",
              "      <td>['php', 'arrays', 'laravel', 'associative-array']</td>\n",
              "      <td>29</td>\n",
              "      <td>0</td>\n",
              "      <td>True</td>\n",
              "      <td>php</td>\n",
              "    </tr>\n",
              "    <tr>\n",
              "      <th>75333</th>\n",
              "      <td>base64 image to imagecreatefromstring() losing...</td>\n",
              "      <td>42385529</td>\n",
              "      <td>['javascript', 'php', 'base64', 'filereader', ...</td>\n",
              "      <td>817</td>\n",
              "      <td>1</td>\n",
              "      <td>True</td>\n",
              "      <td>php</td>\n",
              "    </tr>\n",
              "  </tbody>\n",
              "</table>\n",
              "</div>"
            ],
            "text/plain": [
              "                                                   title  id_stack  ...   done  label\n",
              "75329          Php Monolog udp SocketHandler packet size  62436746  ...  False    php\n",
              "75330  PHP CURL issue | Header Context Type is not se...  62435600  ...  False    php\n",
              "75331  How can I delete data of single row in PHP dyn...  62436423  ...  False    php\n",
              "75332  How to make custom associative array using an ...  62435957  ...   True    php\n",
              "75333  base64 image to imagecreatefromstring() losing...  42385529  ...   True    php\n",
              "\n",
              "[5 rows x 7 columns]"
            ]
          },
          "metadata": {
            "tags": []
          },
          "execution_count": 3
        }
      ]
    },
    {
      "cell_type": "code",
      "metadata": {
        "id": "UbMkm3vzqvMs",
        "colab_type": "code",
        "colab": {
          "base_uri": "https://localhost:8080/",
          "height": 255
        },
        "outputId": "ddf41fbb-5f15-4ff6-caff-93447cfd2b71"
      },
      "source": [
        "data.info()"
      ],
      "execution_count": 4,
      "outputs": [
        {
          "output_type": "stream",
          "text": [
            "<class 'pandas.core.frame.DataFrame'>\n",
            "RangeIndex: 75334 entries, 0 to 75333\n",
            "Data columns (total 7 columns):\n",
            " #   Column    Non-Null Count  Dtype \n",
            "---  ------    --------------  ----- \n",
            " 0   title     75334 non-null  object\n",
            " 1   id_stack  75334 non-null  int64 \n",
            " 2   tags      75334 non-null  object\n",
            " 3   views     75334 non-null  int64 \n",
            " 4   score     75334 non-null  int64 \n",
            " 5   done      75334 non-null  bool  \n",
            " 6   label     75334 non-null  object\n",
            "dtypes: bool(1), int64(3), object(3)\n",
            "memory usage: 3.5+ MB\n"
          ],
          "name": "stdout"
        }
      ]
    },
    {
      "cell_type": "code",
      "metadata": {
        "id": "uO3nNtiLlxNT",
        "colab_type": "code",
        "colab": {
          "base_uri": "https://localhost:8080/",
          "height": 34
        },
        "outputId": "b08a0fa5-0f05-4533-8f0d-41bc6af989b6"
      },
      "source": [
        "data.shape"
      ],
      "execution_count": 5,
      "outputs": [
        {
          "output_type": "execute_result",
          "data": {
            "text/plain": [
              "(75334, 7)"
            ]
          },
          "metadata": {
            "tags": []
          },
          "execution_count": 5
        }
      ]
    },
    {
      "cell_type": "code",
      "metadata": {
        "id": "bSk0tuzwrmBu",
        "colab_type": "code",
        "colab": {
          "base_uri": "https://localhost:8080/",
          "height": 119
        },
        "outputId": "1161c157-cdb0-4cce-d971-2f82d70ec841"
      },
      "source": [
        "s = pd.Series(data['label'])\n",
        "s.value_counts()"
      ],
      "execution_count": 69,
      "outputs": [
        {
          "output_type": "execute_result",
          "data": {
            "text/plain": [
              "python        19530\n",
              "javascript    17897\n",
              "java          16418\n",
              "php           12304\n",
              "R              9185\n",
              "Name: label, dtype: int64"
            ]
          },
          "metadata": {
            "tags": []
          },
          "execution_count": 69
        }
      ]
    },
    {
      "cell_type": "code",
      "metadata": {
        "id": "tKr4hlzJq1xr",
        "colab_type": "code",
        "colab": {
          "base_uri": "https://localhost:8080/",
          "height": 420
        },
        "outputId": "d7704827-57b3-44ba-faff-1be3e123e501"
      },
      "source": [
        "import seaborn as sns\n",
        "sns.catplot(x=\"label\",kind=\"count\",data=data)"
      ],
      "execution_count": 6,
      "outputs": [
        {
          "output_type": "stream",
          "text": [
            "/usr/local/lib/python3.6/dist-packages/statsmodels/tools/_testing.py:19: FutureWarning: pandas.util.testing is deprecated. Use the functions in the public API at pandas.testing instead.\n",
            "  import pandas.util.testing as tm\n"
          ],
          "name": "stderr"
        },
        {
          "output_type": "execute_result",
          "data": {
            "text/plain": [
              "<seaborn.axisgrid.FacetGrid at 0x7f5006c07908>"
            ]
          },
          "metadata": {
            "tags": []
          },
          "execution_count": 6
        },
        {
          "output_type": "display_data",
          "data": {
            "image/png": "[encoded data removed]",
            "text/plain": [
              "<Figure size 360x360 with 1 Axes>"
            ]
          },
          "metadata": {
            "tags": [],
            "needs_background": "light"
          }
        }
      ]
    },
    {
      "cell_type": "markdown",
      "metadata": {
        "id": "WD_ddbbKMCix",
        "colab_type": "text"
      },
      "source": [
        "#3 : Tiền xử lý dữ liệu"
      ]
    },
    {
      "cell_type": "markdown",
      "metadata": {
        "id": "VYElFCxbPrqF",
        "colab_type": "text"
      },
      "source": [
        "**Text processing**"
      ]
    },
    {
      "cell_type": "code",
      "metadata": {
        "id": "QtrZOn20rzd2",
        "colab_type": "code",
        "colab": {
          "base_uri": "https://localhost:8080/",
          "height": 51
        },
        "outputId": "c08ffd88-7204-406f-c9dd-b0031456d4f6"
      },
      "source": [
        "import nltk\n",
        "import re\n",
        "nltk.download(\"stopwords\")\n",
        "from nltk.corpus import stopwords\n",
        "from nltk.stem.porter import PorterStemmer"
      ],
      "execution_count": 7,
      "outputs": [
        {
          "output_type": "stream",
          "text": [
            "[nltk_data] Downloading package stopwords to /root/nltk_data...\n",
            "[nltk_data]   Unzipping corpora/stopwords.zip.\n"
          ],
          "name": "stdout"
        }
      ]
    },
    {
      "cell_type": "code",
      "metadata": {
        "id": "_yHdxXC4qHs3",
        "colab_type": "code",
        "colab": {}
      },
      "source": [
        "text = data['title']\n",
        "def preprocessor(review):\n",
        "  review=re.sub(\"[^a-zA-z]\",\" \",review)\n",
        "  review = review.split()\n",
        "  ps = PorterStemmer()\n",
        "  review = [ps.stem(word) for word in review if word not in stopwords.words(\"english\")]\n",
        "  review = \" \".join(review)\n",
        "  return review\n",
        "text = text.apply(preprocessor)"
      ],
      "execution_count": 8,
      "outputs": []
    },
    {
      "cell_type": "code",
      "metadata": {
        "id": "IrPrmVmhjXek",
        "colab_type": "code",
        "colab": {
          "base_uri": "https://localhost:8080/",
          "height": 119
        },
        "outputId": "ee4d4842-378f-4a8e-9b83-37dd8b66f5c5"
      },
      "source": [
        "text.head()"
      ],
      "execution_count": 50,
      "outputs": [
        {
          "output_type": "execute_result",
          "data": {
            "text/plain": [
              "0                          use entri kivi class\n",
              "1          packag python softwar pylucen depend\n",
              "2                     extract time regex string\n",
              "3    how I add specif header form model formset\n",
              "4     barplot datafram use column set bar color\n",
              "Name: title, dtype: object"
            ]
          },
          "metadata": {
            "tags": []
          },
          "execution_count": 50
        }
      ]
    },
    {
      "cell_type": "code",
      "metadata": {
        "id": "kBN-xDCijfDD",
        "colab_type": "code",
        "colab": {
          "base_uri": "https://localhost:8080/",
          "height": 119
        },
        "outputId": "ad905f5d-2a69-4055-c2e5-2ab0e2b5641d"
      },
      "source": [
        "text.tail()"
      ],
      "execution_count": 51,
      "outputs": [
        {
          "output_type": "execute_result",
          "data": {
            "text/plain": [
              "75329              php monolog udp sockethandl packet size\n",
              "75330               php curl issu header context type send\n",
              "75331            how I delet data singl row php dynam tabl\n",
              "75332    how make custom associ array use array foreach...\n",
              "75333               base imag imagecreatefromstr lose data\n",
              "Name: title, dtype: object"
            ]
          },
          "metadata": {
            "tags": []
          },
          "execution_count": 51
        }
      ]
    },
    {
      "cell_type": "markdown",
      "metadata": {
        "id": "OCwZf4qkJCpU",
        "colab_type": "text"
      },
      "source": [
        "**TfidfVectorizer**"
      ]
    },
    {
      "cell_type": "code",
      "metadata": {
        "id": "138QkVZGJJVn",
        "colab_type": "code",
        "colab": {}
      },
      "source": [
        "from sklearn.feature_extraction.text import CountVectorizer, TfidfVectorizer\n",
        "tf = CountVectorizer(min_df = 5,max_df = 0.8,max_features=3000)\n",
        "X_tf = tf.fit_transform(text)"
      ],
      "execution_count": 9,
      "outputs": []
    },
    {
      "cell_type": "markdown",
      "metadata": {
        "id": "_VS0q7ACMR2p",
        "colab_type": "text"
      },
      "source": [
        "**CountVectorizer**"
      ]
    },
    {
      "cell_type": "code",
      "metadata": {
        "id": "G8UyZUeDMNW3",
        "colab_type": "code",
        "colab": {}
      },
      "source": [
        "from sklearn.feature_extraction.text import CountVectorizer\n",
        "cv = CountVectorizer()\n",
        "X_cv= cv.fit_transform(text)"
      ],
      "execution_count": 10,
      "outputs": []
    },
    {
      "cell_type": "markdown",
      "metadata": {
        "id": "cByhU02PB51q",
        "colab_type": "text"
      },
      "source": [
        "**Word2Vec**"
      ]
    },
    {
      "cell_type": "code",
      "metadata": {
        "id": "t73y6RxhsoHU",
        "colab_type": "code",
        "colab": {}
      },
      "source": [
        "import gensim\n",
        "sent = ([row.split() for row in text])\n",
        "w2v = gensim.models.Word2Vec(sent,size=300,min_count=1,iter=10)"
      ],
      "execution_count": 11,
      "outputs": []
    },
    {
      "cell_type": "code",
      "metadata": {
        "id": "CjFhT72kpn-k",
        "colab_type": "code",
        "colab": {}
      },
      "source": [
        "import numpy as np\n",
        "embedding_matrix = np.zeros((len(w2v.wv.vocab) + 1, 300))\n",
        "for i, vec in enumerate(w2v.wv.vectors):\n",
        "  embedding_matrix[i] = vec"
      ],
      "execution_count": 12,
      "outputs": []
    },
    {
      "cell_type": "markdown",
      "metadata": {
        "id": "Ok0f4XYvMnRp",
        "colab_type": "text"
      },
      "source": [
        "**Tokenizer**"
      ]
    },
    {
      "cell_type": "code",
      "metadata": {
        "id": "7ifD5ve_NaUB",
        "colab_type": "code",
        "colab": {
          "base_uri": "https://localhost:8080/",
          "height": 34
        },
        "outputId": "f846203f-6727-4b9d-ff32-d801d526b65c"
      },
      "source": [
        "from tensorflow.keras.preprocessing.text import Tokenizer\n",
        "tokenizer = Tokenizer(num_words=len(w2v.wv.vocab)+1)\n",
        "tokenizer.fit_on_texts(text)\n",
        "word_index = tokenizer.word_index\n",
        "print('Found %s unique tokens.' % len(word_index))"
      ],
      "execution_count": 13,
      "outputs": [
        {
          "output_type": "stream",
          "text": [
            "Found 20852 unique tokens.\n"
          ],
          "name": "stdout"
        }
      ]
    },
    {
      "cell_type": "code",
      "metadata": {
        "id": "UuLvwLX5Q3fb",
        "colab_type": "code",
        "colab": {
          "base_uri": "https://localhost:8080/",
          "height": 34
        },
        "outputId": "d7badf2b-e8d9-4b0a-e9cc-a566ffd02927"
      },
      "source": [
        "from tensorflow.keras.preprocessing.sequence import pad_sequences\n",
        "X_wv = tokenizer.texts_to_sequences(text)\n",
        "X_wv = pad_sequences(X_wv)\n",
        "print('Shape of data tensor:', X_wv.shape)"
      ],
      "execution_count": 14,
      "outputs": [
        {
          "output_type": "stream",
          "text": [
            "Shape of data tensor: (75334, 29)\n"
          ],
          "name": "stdout"
        }
      ]
    },
    {
      "cell_type": "markdown",
      "metadata": {
        "id": "3fBD2cS7CAxf",
        "colab_type": "text"
      },
      "source": [
        "**Phân chia dữ liệu huấn luyện**"
      ]
    },
    {
      "cell_type": "code",
      "metadata": {
        "id": "pRuXNkMWGJzD",
        "colab_type": "code",
        "colab": {}
      },
      "source": [
        "from sklearn.model_selection import train_test_split\n",
        "Y_ohe =pd.get_dummies(data['label'])\n",
        "Y = data['label']"
      ],
      "execution_count": 15,
      "outputs": []
    },
    {
      "cell_type": "code",
      "metadata": {
        "id": "YrUmYIqvtXcv",
        "colab_type": "code",
        "colab": {}
      },
      "source": [
        "X_train_lstm, X_test_lstm,Y_train_ohe,Y_test_ohe = train_test_split(X_wv,Y_ohe,train_size=0.8,random_state=0) "
      ],
      "execution_count": 16,
      "outputs": []
    },
    {
      "cell_type": "code",
      "metadata": {
        "id": "S1gxWdNTA6Uq",
        "colab_type": "code",
        "colab": {}
      },
      "source": [
        "X_train_cv, X_test_cv,Y_train,Y_test = train_test_split(X_cv,Y,train_size=0.8,random_state=0) "
      ],
      "execution_count": 17,
      "outputs": []
    },
    {
      "cell_type": "code",
      "metadata": {
        "id": "OX-nvFx9Jb0t",
        "colab_type": "code",
        "colab": {}
      },
      "source": [
        "X_train_tf, X_test_tf,Y_train,Y_test = train_test_split(X_tf,Y,train_size=0.8,random_state=0) "
      ],
      "execution_count": 18,
      "outputs": []
    },
    {
      "cell_type": "markdown",
      "metadata": {
        "id": "ViCRD_2ADmbB",
        "colab_type": "text"
      },
      "source": [
        "#4 : Huấn luyện mô hình"
      ]
    },
    {
      "cell_type": "markdown",
      "metadata": {
        "id": "gnUOx0L76ORC",
        "colab_type": "text"
      },
      "source": [
        "**LSTM**"
      ]
    },
    {
      "cell_type": "code",
      "metadata": {
        "id": "ND6k7axv6L59",
        "colab_type": "code",
        "colab": {
          "base_uri": "https://localhost:8080/",
          "height": 255
        },
        "outputId": "04017e44-7df5-4959-fb7c-43c64ecf6f36"
      },
      "source": [
        "from tensorflow.keras import layers\n",
        "import tensorflow as tf\n",
        "from tensorflow import keras\n",
        "lstm = keras.Sequential()\n",
        "lstm.add(layers.Embedding(len(w2v.wv.vocab)+1,300,input_length=X_wv.shape[1],weights=[embedding_matrix]))\n",
        "lstm.add(layers.LSTM(300))\n",
        "lstm.add(layers.Dense(Y_ohe.shape[1],activation=\"sigmoid\"))\n",
        "lstm.summary()"
      ],
      "execution_count": 19,
      "outputs": [
        {
          "output_type": "stream",
          "text": [
            "Model: \"sequential\"\n",
            "_________________________________________________________________\n",
            "Layer (type)                 Output Shape              Param #   \n",
            "=================================================================\n",
            "embedding (Embedding)        (None, 29, 300)           6971700   \n",
            "_________________________________________________________________\n",
            "lstm (LSTM)                  (None, 300)               721200    \n",
            "_________________________________________________________________\n",
            "dense (Dense)                (None, 5)                 1505      \n",
            "=================================================================\n",
            "Total params: 7,694,405\n",
            "Trainable params: 7,694,405\n",
            "Non-trainable params: 0\n",
            "_________________________________________________________________\n"
          ],
          "name": "stdout"
        }
      ]
    },
    {
      "cell_type": "code",
      "metadata": {
        "id": "RKN3ztzTMHiZ",
        "colab_type": "code",
        "colab": {}
      },
      "source": [
        "lstm.compile(loss='categorical_crossentropy', optimizer='rmsprop', metrics=['accuracy'])"
      ],
      "execution_count": 20,
      "outputs": []
    },
    {
      "cell_type": "code",
      "metadata": {
        "id": "iBTWscv2MR6P",
        "colab_type": "code",
        "colab": {
          "base_uri": "https://localhost:8080/",
          "height": 136
        },
        "outputId": "2dd61a43-24c5-4013-da6f-69fcc7493ad3"
      },
      "source": [
        "lstm.fit(X_train_lstm,Y_train_ohe,batch_size = 64 ,epochs=3)"
      ],
      "execution_count": 21,
      "outputs": [
        {
          "output_type": "stream",
          "text": [
            "Epoch 1/3\n",
            "942/942 [==============================] - 46s 49ms/step - loss: 0.7455 - accuracy: 0.7116\n",
            "Epoch 2/3\n",
            "942/942 [==============================] - 45s 48ms/step - loss: 0.4581 - accuracy: 0.8329\n",
            "Epoch 3/3\n",
            "942/942 [==============================] - 45s 48ms/step - loss: 0.3590 - accuracy: 0.8695\n"
          ],
          "name": "stdout"
        },
        {
          "output_type": "execute_result",
          "data": {
            "text/plain": [
              "<tensorflow.python.keras.callbacks.History at 0x7f4fac5faa90>"
            ]
          },
          "metadata": {
            "tags": []
          },
          "execution_count": 21
        }
      ]
    },
    {
      "cell_type": "markdown",
      "metadata": {
        "id": "eCqdmBGcCRy6",
        "colab_type": "text"
      },
      "source": [
        "**LogisticRegression**\n"
      ]
    },
    {
      "cell_type": "code",
      "metadata": {
        "id": "z7MuVl9g9Yoy",
        "colab_type": "code",
        "colab": {
          "base_uri": "https://localhost:8080/",
          "height": 238
        },
        "outputId": "c2e795a9-c5b8-4ca8-8066-14bbde7a2c89"
      },
      "source": [
        "from sklearn.linear_model import LogisticRegression\n",
        "log_reg=LogisticRegression()\n",
        "log_reg.fit(X_train_cv,Y_train)"
      ],
      "execution_count": 22,
      "outputs": [
        {
          "output_type": "stream",
          "text": [
            "/usr/local/lib/python3.6/dist-packages/sklearn/linear_model/_logistic.py:940: ConvergenceWarning: lbfgs failed to converge (status=1):\n",
            "STOP: TOTAL NO. of ITERATIONS REACHED LIMIT.\n",
            "\n",
            "Increase the number of iterations (max_iter) or scale the data as shown in:\n",
            "    https://scikit-learn.org/stable/modules/preprocessing.html\n",
            "Please also refer to the documentation for alternative solver options:\n",
            "    https://scikit-learn.org/stable/modules/linear_model.html#logistic-regression\n",
            "  extra_warning_msg=_LOGISTIC_SOLVER_CONVERGENCE_MSG)\n"
          ],
          "name": "stderr"
        },
        {
          "output_type": "execute_result",
          "data": {
            "text/plain": [
              "LogisticRegression(C=1.0, class_weight=None, dual=False, fit_intercept=True,\n",
              "                   intercept_scaling=1, l1_ratio=None, max_iter=100,\n",
              "                   multi_class='auto', n_jobs=None, penalty='l2',\n",
              "                   random_state=None, solver='lbfgs', tol=0.0001, verbose=0,\n",
              "                   warm_start=False)"
            ]
          },
          "metadata": {
            "tags": []
          },
          "execution_count": 22
        }
      ]
    },
    {
      "cell_type": "markdown",
      "metadata": {
        "id": "k1Hqhau4PS79",
        "colab_type": "text"
      },
      "source": [
        "**SVM**"
      ]
    },
    {
      "cell_type": "code",
      "metadata": {
        "id": "qqDYs3Y8OmqV",
        "colab_type": "code",
        "colab": {
          "base_uri": "https://localhost:8080/",
          "height": 85
        },
        "outputId": "6630a1de-829c-455f-c192-96b79efed6d6"
      },
      "source": [
        "from sklearn.svm import SVC\n",
        "svm = SVC(kernel = 'linear')\n",
        "svm.fit(X_train_tf,Y_train)"
      ],
      "execution_count": 23,
      "outputs": [
        {
          "output_type": "execute_result",
          "data": {
            "text/plain": [
              "SVC(C=1.0, break_ties=False, cache_size=200, class_weight=None, coef0=0.0,\n",
              "    decision_function_shape='ovr', degree=3, gamma='scale', kernel='linear',\n",
              "    max_iter=-1, probability=False, random_state=None, shrinking=True,\n",
              "    tol=0.001, verbose=False)"
            ]
          },
          "metadata": {
            "tags": []
          },
          "execution_count": 23
        }
      ]
    },
    {
      "cell_type": "markdown",
      "metadata": {
        "id": "JJ2HtVLFDvB-",
        "colab_type": "text"
      },
      "source": [
        "#5 : Đánh giá mô hình"
      ]
    },
    {
      "cell_type": "code",
      "metadata": {
        "id": "iWy1EljxY4TJ",
        "colab_type": "code",
        "colab": {}
      },
      "source": [
        "from matplotlib import pyplot as plt\n",
        "from sklearn import metrics\n",
        "class_names =['R','java','javascript','php','python']"
      ],
      "execution_count": 33,
      "outputs": []
    },
    {
      "cell_type": "code",
      "metadata": {
        "id": "eE0__t74Lb28",
        "colab_type": "code",
        "colab": {
          "base_uri": "https://localhost:8080/",
          "height": 444
        },
        "outputId": "f6bdd325-fa2e-4256-95ca-e93d8f66574c"
      },
      "source": [
        "fig, (ax1, ax2,ax3) = plt.subplots(1, 3, figsize = (21, 7))\n",
        "\n",
        "Y_test_ohe_np = Y_test_ohe.values\n",
        "predicted = lstm.predict(X_test_lstm)\n",
        "cm_lstm = metrics.confusion_matrix(Y_test_ohe_np.argmax(axis=1), predicted.argmax(axis=1))\n",
        "ax1.set_title('LSTM')\n",
        "sns.heatmap(cm_lstm, annot=True,xticklabels=class_names,yticklabels=class_names,ax = ax1,fmt='g',cmap='coolwarm')\n",
        "\n",
        "predicted = log_reg.predict(X_test_cv)\n",
        "cm_log_reg = metrics.confusion_matrix(Y_test,predicted)\n",
        "ax2.set_title('Logistic Regression')\n",
        "sns.heatmap(cm_log_reg, annot=True,xticklabels=class_names,yticklabels=class_names,ax = ax2,fmt='g',cmap='coolwarm')\n",
        "\n",
        "predicted = svm.predict(X_test_tf)\n",
        "cm_svm =metrics.confusion_matrix(Y_test,predicted)\n",
        "ax3.set_title('Support vector machine')\n",
        "sns.heatmap(cm_svm, annot=True,xticklabels=class_names,yticklabels=class_names,ax= ax3,fmt='g',cmap='coolwarm')\n",
        "\n",
        "plt.show()"
      ],
      "execution_count": 48,
      "outputs": [
        {
          "output_type": "display_data",
          "data": {
            "image/png": "[encoded data removed]",
            "text/plain": [
              "<Figure size 1512x504 with 6 Axes>"
            ]
          },
          "metadata": {
            "tags": [],
            "needs_background": "light"
          }
        }
      ]
    },
    {
      "cell_type": "code",
      "metadata": {
        "id": "CIYSJKlfgF2S",
        "colab_type": "code",
        "colab": {
          "base_uri": "https://localhost:8080/",
          "height": 85
        },
        "outputId": "c44cea55-fcc4-4e0c-c79d-27663a79c883"
      },
      "source": [
        "loss, accuracy = lstm.evaluate(X_test_lstm,Y_test_ohe,verbose=0)\n",
        "row = ' {:<30}  {:>10} '.format('Model', 'Accuracy')\n",
        "row_1 = ' {:<30}  {:>10} '.format('LSTM', accuracy)\n",
        "row_2 = ' {:<30}  {:>10} '.format('Logistic Regression',log_reg.score(X_test_cv,Y_test))\n",
        "row_3 = ' {:<30}  {:>10} '.format('SVM', svm.score(X_test_tf,Y_test))\n",
        "print(row)\n",
        "print(row_1)\n",
        "print(row_2)\n",
        "print(row_3)"
      ],
      "execution_count": 65,
      "outputs": [
        {
          "output_type": "stream",
          "text": [
            " Model                             Accuracy \n",
            " LSTM                            0.8332780003547668 \n",
            " Logistic Regression             0.8031459480984934 \n",
            " SVM                             0.7811774075794783 \n"
          ],
          "name": "stdout"
        }
      ]
    },
    {
      "cell_type": "markdown",
      "metadata": {
        "id": "Lb4JPM0WPExZ",
        "colab_type": "text"
      },
      "source": [
        "#6 : Lưu mô hình"
      ]
    },
    {
      "cell_type": "code",
      "metadata": {
        "id": "4WwOs9UhO6Ep",
        "colab_type": "code",
        "colab": {}
      },
      "source": [
        "import joblib\n",
        "joblib.dump(log_reg,'LogisticRegression.h5')\n",
        "joblib.dump(svm,'SVM.h5')\n",
        "lstm.save('LSTM.h5')"
      ],
      "execution_count": 28,
      "outputs": []
    }
  ]
}