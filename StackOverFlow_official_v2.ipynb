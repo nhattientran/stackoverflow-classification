{
  "nbformat": 4,
  "nbformat_minor": 0,
  "metadata": {
    "colab": {
      "name": "StackOverFlow.ipynb",
      "provenance": [],
      "toc_visible": true,
      "include_colab_link": true
    },
    "kernelspec": {
      "name": "python3",
      "display_name": "Python 3"
    },
    "accelerator": "GPU"
  },
  "cells": [
    {
      "cell_type": "markdown",
      "metadata": {
        "id": "view-in-github",
        "colab_type": "text"
      },
      "source": [
        "<a href=\"https://colab.research.google.com/github/nhattientran/stackoverflow-classification-question/blob/master/StackOverFlow_official_v2.ipynb\" target=\"_parent\"><img src=\"https://colab.research.google.com/assets/colab-badge.svg\" alt=\"Open In Colab\"/></a>"
      ]
    },
    {
      "cell_type": "markdown",
      "metadata": {
        "id": "M0NzOB01DYqz",
        "colab_type": "text"
      },
      "source": [
        "#1 : Đọc dữ liệu"
      ]
    },
    {
      "cell_type": "code",
      "metadata": {
        "id": "0VC7EyDFpQYO",
        "colab_type": "code",
        "colab": {}
      },
      "source": [
        "import pandas as pd\n",
        "url = \"https://github.com/nhattientran/stackoverflow-classification-question/blob/master/dataset/full_dataset_v3.csv?raw=true\"\n",
        "data = pd.read_csv(url,delimiter=\";\")"
      ],
      "execution_count": 1,
      "outputs": []
    },
    {
      "cell_type": "markdown",
      "metadata": {
        "id": "ScWXXM9HL622",
        "colab_type": "text"
      },
      "source": [
        "#2 : Thống kê dữ liệu"
      ]
    },
    {
      "cell_type": "code",
      "metadata": {
        "id": "Vjy4OcZwCq1U",
        "colab_type": "code",
        "colab": {
          "base_uri": "https://localhost:8080/",
          "height": 204
        },
        "outputId": "017f36d1-9cb4-4418-b2f5-82aa6a6a7ed5"
      },
      "source": [
        "data.head()"
      ],
      "execution_count": 2,
      "outputs": [
        {
          "output_type": "execute_result",
          "data": {
            "text/html": [
              "<div>\n",
              "<style scoped>\n",
              "    .dataframe tbody tr th:only-of-type {\n",
              "        vertical-align: middle;\n",
              "    }\n",
              "\n",
              "    .dataframe tbody tr th {\n",
              "        vertical-align: top;\n",
              "    }\n",
              "\n",
              "    .dataframe thead th {\n",
              "        text-align: right;\n",
              "    }\n",
              "</style>\n",
              "<table border=\"1\" class=\"dataframe\">\n",
              "  <thead>\n",
              "    <tr style=\"text-align: right;\">\n",
              "      <th></th>\n",
              "      <th>title</th>\n",
              "      <th>id_stack</th>\n",
              "      <th>tags</th>\n",
              "      <th>views</th>\n",
              "      <th>score</th>\n",
              "      <th>done</th>\n",
              "      <th>label</th>\n",
              "    </tr>\n",
              "  </thead>\n",
              "  <tbody>\n",
              "    <tr>\n",
              "      <th>0</th>\n",
              "      <td>Using entries from other kivy classes</td>\n",
              "      <td>61881920</td>\n",
              "      <td>['python', 'python-3.x', 'kivy']</td>\n",
              "      <td>12</td>\n",
              "      <td>0</td>\n",
              "      <td>False</td>\n",
              "      <td>python</td>\n",
              "    </tr>\n",
              "    <tr>\n",
              "      <th>1</th>\n",
              "      <td>Package python software with pylucene dependency</td>\n",
              "      <td>61896481</td>\n",
              "      <td>['python', 'docker', 'pip', 'dependencies', 'p...</td>\n",
              "      <td>7</td>\n",
              "      <td>1</td>\n",
              "      <td>False</td>\n",
              "      <td>python</td>\n",
              "    </tr>\n",
              "    <tr>\n",
              "      <th>2</th>\n",
              "      <td>Extracting time with regex from a string</td>\n",
              "      <td>61894597</td>\n",
              "      <td>['python', 'regex']</td>\n",
              "      <td>29</td>\n",
              "      <td>3</td>\n",
              "      <td>False</td>\n",
              "      <td>python</td>\n",
              "    </tr>\n",
              "    <tr>\n",
              "      <th>3</th>\n",
              "      <td>How do I add specific headers before each form...</td>\n",
              "      <td>61896721</td>\n",
              "      <td>['python', 'django']</td>\n",
              "      <td>4</td>\n",
              "      <td>0</td>\n",
              "      <td>False</td>\n",
              "      <td>python</td>\n",
              "    </tr>\n",
              "    <tr>\n",
              "      <th>4</th>\n",
              "      <td>Barplot from a dataframe using a column to set...</td>\n",
              "      <td>61896506</td>\n",
              "      <td>['python', 'pandas', 'bar-chart', 'seaborn', '...</td>\n",
              "      <td>12</td>\n",
              "      <td>0</td>\n",
              "      <td>True</td>\n",
              "      <td>python</td>\n",
              "    </tr>\n",
              "  </tbody>\n",
              "</table>\n",
              "</div>"
            ],
            "text/plain": [
              "                                               title  id_stack  ...   done   label\n",
              "0              Using entries from other kivy classes  61881920  ...  False  python\n",
              "1   Package python software with pylucene dependency  61896481  ...  False  python\n",
              "2           Extracting time with regex from a string  61894597  ...  False  python\n",
              "3  How do I add specific headers before each form...  61896721  ...  False  python\n",
              "4  Barplot from a dataframe using a column to set...  61896506  ...   True  python\n",
              "\n",
              "[5 rows x 7 columns]"
            ]
          },
          "metadata": {
            "tags": []
          },
          "execution_count": 2
        }
      ]
    },
    {
      "cell_type": "code",
      "metadata": {
        "id": "iE-plmyACy7r",
        "colab_type": "code",
        "colab": {
          "base_uri": "https://localhost:8080/",
          "height": 204
        },
        "outputId": "60926a36-7d14-482e-e6e1-890e6860ee44"
      },
      "source": [
        "data.tail()"
      ],
      "execution_count": 3,
      "outputs": [
        {
          "output_type": "execute_result",
          "data": {
            "text/html": [
              "<div>\n",
              "<style scoped>\n",
              "    .dataframe tbody tr th:only-of-type {\n",
              "        vertical-align: middle;\n",
              "    }\n",
              "\n",
              "    .dataframe tbody tr th {\n",
              "        vertical-align: top;\n",
              "    }\n",
              "\n",
              "    .dataframe thead th {\n",
              "        text-align: right;\n",
              "    }\n",
              "</style>\n",
              "<table border=\"1\" class=\"dataframe\">\n",
              "  <thead>\n",
              "    <tr style=\"text-align: right;\">\n",
              "      <th></th>\n",
              "      <th>title</th>\n",
              "      <th>id_stack</th>\n",
              "      <th>tags</th>\n",
              "      <th>views</th>\n",
              "      <th>score</th>\n",
              "      <th>done</th>\n",
              "      <th>label</th>\n",
              "    </tr>\n",
              "  </thead>\n",
              "  <tbody>\n",
              "    <tr>\n",
              "      <th>75329</th>\n",
              "      <td>Php Monolog udp SocketHandler packet size</td>\n",
              "      <td>62436746</td>\n",
              "      <td>['php', 'udp', 'logstash', 'monolog']</td>\n",
              "      <td>16</td>\n",
              "      <td>1</td>\n",
              "      <td>False</td>\n",
              "      <td>php</td>\n",
              "    </tr>\n",
              "    <tr>\n",
              "      <th>75330</th>\n",
              "      <td>PHP CURL issue | Header Context Type is not se...</td>\n",
              "      <td>62435600</td>\n",
              "      <td>['php', 'curl']</td>\n",
              "      <td>11</td>\n",
              "      <td>0</td>\n",
              "      <td>False</td>\n",
              "      <td>php</td>\n",
              "    </tr>\n",
              "    <tr>\n",
              "      <th>75331</th>\n",
              "      <td>How can I delete data of single row in PHP dyn...</td>\n",
              "      <td>62436423</td>\n",
              "      <td>['php', 'html']</td>\n",
              "      <td>15</td>\n",
              "      <td>-3</td>\n",
              "      <td>False</td>\n",
              "      <td>php</td>\n",
              "    </tr>\n",
              "    <tr>\n",
              "      <th>75332</th>\n",
              "      <td>How to make custom associative array using an ...</td>\n",
              "      <td>62435957</td>\n",
              "      <td>['php', 'arrays', 'laravel', 'associative-array']</td>\n",
              "      <td>29</td>\n",
              "      <td>0</td>\n",
              "      <td>True</td>\n",
              "      <td>php</td>\n",
              "    </tr>\n",
              "    <tr>\n",
              "      <th>75333</th>\n",
              "      <td>base64 image to imagecreatefromstring() losing...</td>\n",
              "      <td>42385529</td>\n",
              "      <td>['javascript', 'php', 'base64', 'filereader', ...</td>\n",
              "      <td>817</td>\n",
              "      <td>1</td>\n",
              "      <td>True</td>\n",
              "      <td>php</td>\n",
              "    </tr>\n",
              "  </tbody>\n",
              "</table>\n",
              "</div>"
            ],
            "text/plain": [
              "                                                   title  id_stack  ...   done  label\n",
              "75329          Php Monolog udp SocketHandler packet size  62436746  ...  False    php\n",
              "75330  PHP CURL issue | Header Context Type is not se...  62435600  ...  False    php\n",
              "75331  How can I delete data of single row in PHP dyn...  62436423  ...  False    php\n",
              "75332  How to make custom associative array using an ...  62435957  ...   True    php\n",
              "75333  base64 image to imagecreatefromstring() losing...  42385529  ...   True    php\n",
              "\n",
              "[5 rows x 7 columns]"
            ]
          },
          "metadata": {
            "tags": []
          },
          "execution_count": 3
        }
      ]
    },
    {
      "cell_type": "code",
      "metadata": {
        "id": "UbMkm3vzqvMs",
        "colab_type": "code",
        "colab": {
          "base_uri": "https://localhost:8080/",
          "height": 255
        },
        "outputId": "0f79eb1b-5cf8-467e-df17-c36d1236aff1"
      },
      "source": [
        "data.info()"
      ],
      "execution_count": 4,
      "outputs": [
        {
          "output_type": "stream",
          "text": [
            "<class 'pandas.core.frame.DataFrame'>\n",
            "RangeIndex: 75334 entries, 0 to 75333\n",
            "Data columns (total 7 columns):\n",
            " #   Column    Non-Null Count  Dtype \n",
            "---  ------    --------------  ----- \n",
            " 0   title     75334 non-null  object\n",
            " 1   id_stack  75334 non-null  int64 \n",
            " 2   tags      75334 non-null  object\n",
            " 3   views     75334 non-null  int64 \n",
            " 4   score     75334 non-null  int64 \n",
            " 5   done      75334 non-null  bool  \n",
            " 6   label     75334 non-null  object\n",
            "dtypes: bool(1), int64(3), object(3)\n",
            "memory usage: 3.5+ MB\n"
          ],
          "name": "stdout"
        }
      ]
    },
    {
      "cell_type": "code",
      "metadata": {
        "id": "uO3nNtiLlxNT",
        "colab_type": "code",
        "colab": {
          "base_uri": "https://localhost:8080/",
          "height": 34
        },
        "outputId": "b4a09be4-4b59-423b-ec23-e57b6aa6279d"
      },
      "source": [
        "data.shape"
      ],
      "execution_count": 5,
      "outputs": [
        {
          "output_type": "execute_result",
          "data": {
            "text/plain": [
              "(75334, 7)"
            ]
          },
          "metadata": {
            "tags": []
          },
          "execution_count": 5
        }
      ]
    },
    {
      "cell_type": "code",
      "metadata": {
        "id": "tKr4hlzJq1xr",
        "colab_type": "code",
        "colab": {
          "base_uri": "https://localhost:8080/",
          "height": 440
        },
        "outputId": "9a39d65f-c983-4bd1-9384-491dd086186e"
      },
      "source": [
        "import seaborn as sns\n",
        "sns.catplot(x=\"label\",kind=\"count\",data=data)"
      ],
      "execution_count": 6,
      "outputs": [
        {
          "output_type": "stream",
          "text": [
            "/usr/local/lib/python3.6/dist-packages/statsmodels/tools/_testing.py:19: FutureWarning: pandas.util.testing is deprecated. Use the functions in the public API at pandas.testing instead.\n",
            "  import pandas.util.testing as tm\n"
          ],
          "name": "stderr"
        },
        {
          "output_type": "execute_result",
          "data": {
            "text/plain": [
              "<seaborn.axisgrid.FacetGrid at 0x7facc3ec95f8>"
            ]
          },
          "metadata": {
            "tags": []
          },
          "execution_count": 6
        },
        {
          "output_type": "display_data",
          "data": {
            "image/png": "[encoded data removed]",
            "text/plain": [
              "<Figure size 360x360 with 1 Axes>"
            ]
          },
          "metadata": {
            "tags": [],
            "needs_background": "light"
          }
        }
      ]
    },
    {
      "cell_type": "markdown",
      "metadata": {
        "id": "WD_ddbbKMCix",
        "colab_type": "text"
      },
      "source": [
        "#3 : Tiền xử lý dữ liệu"
      ]
    },
    {
      "cell_type": "markdown",
      "metadata": {
        "id": "VYElFCxbPrqF",
        "colab_type": "text"
      },
      "source": [
        "**Text processing**"
      ]
    },
    {
      "cell_type": "code",
      "metadata": {
        "id": "QtrZOn20rzd2",
        "colab_type": "code",
        "colab": {
          "base_uri": "https://localhost:8080/",
          "height": 51
        },
        "outputId": "d70d2d87-e68f-42e6-cb81-fc18d088d19b"
      },
      "source": [
        "import nltk\n",
        "import re\n",
        "nltk.download(\"stopwords\")\n",
        "from nltk.corpus import stopwords\n",
        "from nltk.stem.porter import PorterStemmer"
      ],
      "execution_count": 7,
      "outputs": [
        {
          "output_type": "stream",
          "text": [
            "[nltk_data] Downloading package stopwords to /root/nltk_data...\n",
            "[nltk_data]   Unzipping corpora/stopwords.zip.\n"
          ],
          "name": "stdout"
        }
      ]
    },
    {
      "cell_type": "code",
      "metadata": {
        "id": "_yHdxXC4qHs3",
        "colab_type": "code",
        "colab": {}
      },
      "source": [
        "text = data['title']\n",
        "def preprocessor(review):\n",
        "  review=re.sub(\"[^a-zA-z]\",\" \",review)\n",
        "  review = review.split()\n",
        "  ps = PorterStemmer()\n",
        "  review = [ps.stem(word) for word in review if word not in stopwords.words(\"english\")]\n",
        "  review = \" \".join(review)\n",
        "  return review\n",
        "text = text.apply(preprocessor)"
      ],
      "execution_count": 8,
      "outputs": []
    },
    {
      "cell_type": "markdown",
      "metadata": {
        "id": "OCwZf4qkJCpU",
        "colab_type": "text"
      },
      "source": [
        "**TfidfVectorizer**"
      ]
    },
    {
      "cell_type": "code",
      "metadata": {
        "id": "138QkVZGJJVn",
        "colab_type": "code",
        "colab": {}
      },
      "source": [
        "from sklearn.feature_extraction.text import CountVectorizer, TfidfVectorizer\n",
        "tf = CountVectorizer(min_df = 5,max_df = 0.8,max_features=3000)\n",
        "X_tf = tf.fit_transform(text)"
      ],
      "execution_count": 9,
      "outputs": []
    },
    {
      "cell_type": "markdown",
      "metadata": {
        "id": "_VS0q7ACMR2p",
        "colab_type": "text"
      },
      "source": [
        "**CountVectorizer**"
      ]
    },
    {
      "cell_type": "code",
      "metadata": {
        "id": "G8UyZUeDMNW3",
        "colab_type": "code",
        "colab": {}
      },
      "source": [
        "from sklearn.feature_extraction.text import CountVectorizer\n",
        "cv = CountVectorizer()\n",
        "X_cv= cv.fit_transform(text)"
      ],
      "execution_count": 10,
      "outputs": []
    },
    {
      "cell_type": "markdown",
      "metadata": {
        "id": "cByhU02PB51q",
        "colab_type": "text"
      },
      "source": [
        "**Word2Vec**"
      ]
    },
    {
      "cell_type": "code",
      "metadata": {
        "id": "t73y6RxhsoHU",
        "colab_type": "code",
        "colab": {}
      },
      "source": [
        "import gensim\n",
        "sent = ([row.split() for row in text])\n",
        "w2v = gensim.models.Word2Vec(sent,size=300,min_count=1,iter=10)"
      ],
      "execution_count": 11,
      "outputs": []
    },
    {
      "cell_type": "code",
      "metadata": {
        "id": "CjFhT72kpn-k",
        "colab_type": "code",
        "colab": {}
      },
      "source": [
        "import numpy as np\n",
        "embedding_matrix = np.zeros((len(w2v.wv.vocab) + 1, 300))\n",
        "for i, vec in enumerate(w2v.wv.vectors):\n",
        "  embedding_matrix[i] = vec"
      ],
      "execution_count": 12,
      "outputs": []
    },
    {
      "cell_type": "markdown",
      "metadata": {
        "id": "Ok0f4XYvMnRp",
        "colab_type": "text"
      },
      "source": [
        "**Tokenizer**"
      ]
    },
    {
      "cell_type": "code",
      "metadata": {
        "id": "7ifD5ve_NaUB",
        "colab_type": "code",
        "colab": {
          "base_uri": "https://localhost:8080/",
          "height": 34
        },
        "outputId": "4853523a-761b-443c-dc80-3795db3f670b"
      },
      "source": [
        "from tensorflow.keras.preprocessing.text import Tokenizer\n",
        "tokenizer = Tokenizer(num_words=len(w2v.wv.vocab)+1)\n",
        "tokenizer.fit_on_texts(text)\n",
        "word_index = tokenizer.word_index\n",
        "print('Found %s unique tokens.' % len(word_index))"
      ],
      "execution_count": 13,
      "outputs": [
        {
          "output_type": "stream",
          "text": [
            "Found 20852 unique tokens.\n"
          ],
          "name": "stdout"
        }
      ]
    },
    {
      "cell_type": "code",
      "metadata": {
        "id": "UuLvwLX5Q3fb",
        "colab_type": "code",
        "colab": {
          "base_uri": "https://localhost:8080/",
          "height": 34
        },
        "outputId": "3ca8c95f-1775-4711-83b1-0d4fb345a81e"
      },
      "source": [
        "from tensorflow.keras.preprocessing.sequence import pad_sequences\n",
        "X_wv = tokenizer.texts_to_sequences(text)\n",
        "X_wv = pad_sequences(X_wv)\n",
        "print('Shape of data tensor:', X_wv.shape)"
      ],
      "execution_count": 14,
      "outputs": [
        {
          "output_type": "stream",
          "text": [
            "Shape of data tensor: (75334, 29)\n"
          ],
          "name": "stdout"
        }
      ]
    },
    {
      "cell_type": "markdown",
      "metadata": {
        "id": "3fBD2cS7CAxf",
        "colab_type": "text"
      },
      "source": [
        "**Train test split**"
      ]
    },
    {
      "cell_type": "code",
      "metadata": {
        "id": "pRuXNkMWGJzD",
        "colab_type": "code",
        "colab": {}
      },
      "source": [
        "from sklearn.model_selection import train_test_split\n",
        "Y_ohe =pd.get_dummies(data['label'])\n",
        "Y = data['label']"
      ],
      "execution_count": 15,
      "outputs": []
    },
    {
      "cell_type": "code",
      "metadata": {
        "id": "YrUmYIqvtXcv",
        "colab_type": "code",
        "colab": {}
      },
      "source": [
        "X_train_lstm, X_test_lstm,Y_train_ohe,Y_test_ohe = train_test_split(X_wv,Y_ohe,train_size=0.8,random_state=0) "
      ],
      "execution_count": 16,
      "outputs": []
    },
    {
      "cell_type": "code",
      "metadata": {
        "id": "S1gxWdNTA6Uq",
        "colab_type": "code",
        "colab": {}
      },
      "source": [
        "X_train_cv, X_test_cv,Y_train,Y_test = train_test_split(X_cv,Y,train_size=0.8,random_state=0) "
      ],
      "execution_count": 17,
      "outputs": []
    },
    {
      "cell_type": "code",
      "metadata": {
        "id": "OX-nvFx9Jb0t",
        "colab_type": "code",
        "colab": {}
      },
      "source": [
        "X_train_tf, X_test_tf,Y_train,Y_test = train_test_split(X_tf,Y,train_size=0.8,random_state=0) "
      ],
      "execution_count": 18,
      "outputs": []
    },
    {
      "cell_type": "markdown",
      "metadata": {
        "id": "ViCRD_2ADmbB",
        "colab_type": "text"
      },
      "source": [
        "#4 : Huấn luyện mô hình"
      ]
    },
    {
      "cell_type": "markdown",
      "metadata": {
        "id": "gnUOx0L76ORC",
        "colab_type": "text"
      },
      "source": [
        "**LSTM**"
      ]
    },
    {
      "cell_type": "code",
      "metadata": {
        "id": "ND6k7axv6L59",
        "colab_type": "code",
        "colab": {
          "base_uri": "https://localhost:8080/",
          "height": 255
        },
        "outputId": "9b60fa9a-1b78-4e70-f24d-92e853bcb104"
      },
      "source": [
        "from tensorflow.keras import layers\n",
        "import tensorflow as tf\n",
        "from tensorflow import keras\n",
        "lstm = keras.Sequential()\n",
        "lstm.add(layers.Embedding(len(w2v.wv.vocab)+1,300,input_length=X_wv.shape[1],weights=[embedding_matrix]))\n",
        "lstm.add(layers.LSTM(300))\n",
        "lstm.add(layers.Dense(Y_ohe.shape[1],activation=\"sigmoid\"))\n",
        "lstm.summary()"
      ],
      "execution_count": 19,
      "outputs": [
        {
          "output_type": "stream",
          "text": [
            "Model: \"sequential\"\n",
            "_________________________________________________________________\n",
            "Layer (type)                 Output Shape              Param #   \n",
            "=================================================================\n",
            "embedding (Embedding)        (None, 29, 300)           6971700   \n",
            "_________________________________________________________________\n",
            "lstm (LSTM)                  (None, 300)               721200    \n",
            "_________________________________________________________________\n",
            "dense (Dense)                (None, 5)                 1505      \n",
            "=================================================================\n",
            "Total params: 7,694,405\n",
            "Trainable params: 7,694,405\n",
            "Non-trainable params: 0\n",
            "_________________________________________________________________\n"
          ],
          "name": "stdout"
        }
      ]
    },
    {
      "cell_type": "code",
      "metadata": {
        "id": "RKN3ztzTMHiZ",
        "colab_type": "code",
        "colab": {}
      },
      "source": [
        "lstm.compile(loss='categorical_crossentropy', optimizer='rmsprop', metrics=['accuracy'])"
      ],
      "execution_count": 20,
      "outputs": []
    },
    {
      "cell_type": "code",
      "metadata": {
        "id": "iBTWscv2MR6P",
        "colab_type": "code",
        "colab": {
          "base_uri": "https://localhost:8080/",
          "height": 136
        },
        "outputId": "c6c8ba30-f1f7-405f-fa08-a24eca2a42e4"
      },
      "source": [
        "lstm.fit(X_train_lstm,Y_train_ohe,batch_size = 64 ,epochs=3)"
      ],
      "execution_count": 21,
      "outputs": [
        {
          "output_type": "stream",
          "text": [
            "Epoch 1/3\n",
            "942/942 [==============================] - 43s 45ms/step - loss: 0.7485 - accuracy: 0.7104\n",
            "Epoch 2/3\n",
            "942/942 [==============================] - 42s 44ms/step - loss: 0.4598 - accuracy: 0.8326\n",
            "Epoch 3/3\n",
            "942/942 [==============================] - 41s 44ms/step - loss: 0.3595 - accuracy: 0.8704\n"
          ],
          "name": "stdout"
        },
        {
          "output_type": "execute_result",
          "data": {
            "text/plain": [
              "<tensorflow.python.keras.callbacks.History at 0x7fac698b8b38>"
            ]
          },
          "metadata": {
            "tags": []
          },
          "execution_count": 21
        }
      ]
    },
    {
      "cell_type": "markdown",
      "metadata": {
        "id": "eCqdmBGcCRy6",
        "colab_type": "text"
      },
      "source": [
        "**LogisticRegression**\n"
      ]
    },
    {
      "cell_type": "code",
      "metadata": {
        "id": "z7MuVl9g9Yoy",
        "colab_type": "code",
        "colab": {
          "base_uri": "https://localhost:8080/",
          "height": 238
        },
        "outputId": "7d0385b3-5ca3-46ab-b590-a31daec3e7b4"
      },
      "source": [
        "from sklearn.linear_model import LogisticRegression\n",
        "log_reg=LogisticRegression()\n",
        "log_reg.fit(X_train_cv,Y_train)"
      ],
      "execution_count": 22,
      "outputs": [
        {
          "output_type": "stream",
          "text": [
            "/usr/local/lib/python3.6/dist-packages/sklearn/linear_model/_logistic.py:940: ConvergenceWarning: lbfgs failed to converge (status=1):\n",
            "STOP: TOTAL NO. of ITERATIONS REACHED LIMIT.\n",
            "\n",
            "Increase the number of iterations (max_iter) or scale the data as shown in:\n",
            "    https://scikit-learn.org/stable/modules/preprocessing.html\n",
            "Please also refer to the documentation for alternative solver options:\n",
            "    https://scikit-learn.org/stable/modules/linear_model.html#logistic-regression\n",
            "  extra_warning_msg=_LOGISTIC_SOLVER_CONVERGENCE_MSG)\n"
          ],
          "name": "stderr"
        },
        {
          "output_type": "execute_result",
          "data": {
            "text/plain": [
              "LogisticRegression(C=1.0, class_weight=None, dual=False, fit_intercept=True,\n",
              "                   intercept_scaling=1, l1_ratio=None, max_iter=100,\n",
              "                   multi_class='auto', n_jobs=None, penalty='l2',\n",
              "                   random_state=None, solver='lbfgs', tol=0.0001, verbose=0,\n",
              "                   warm_start=False)"
            ]
          },
          "metadata": {
            "tags": []
          },
          "execution_count": 22
        }
      ]
    },
    {
      "cell_type": "markdown",
      "metadata": {
        "id": "k1Hqhau4PS79",
        "colab_type": "text"
      },
      "source": [
        "**SVM**"
      ]
    },
    {
      "cell_type": "code",
      "metadata": {
        "id": "qqDYs3Y8OmqV",
        "colab_type": "code",
        "colab": {
          "base_uri": "https://localhost:8080/",
          "height": 85
        },
        "outputId": "622e4e71-3e00-43fb-aaf8-7a8de60c9d33"
      },
      "source": [
        "from sklearn.svm import SVC\n",
        "svm = SVC(kernel = 'linear')\n",
        "svm.fit(X_train_tf,Y_train)"
      ],
      "execution_count": 23,
      "outputs": [
        {
          "output_type": "execute_result",
          "data": {
            "text/plain": [
              "SVC(C=1.0, break_ties=False, cache_size=200, class_weight=None, coef0=0.0,\n",
              "    decision_function_shape='ovr', degree=3, gamma='scale', kernel='linear',\n",
              "    max_iter=-1, probability=False, random_state=None, shrinking=True,\n",
              "    tol=0.001, verbose=False)"
            ]
          },
          "metadata": {
            "tags": []
          },
          "execution_count": 23
        }
      ]
    },
    {
      "cell_type": "markdown",
      "metadata": {
        "id": "JJ2HtVLFDvB-",
        "colab_type": "text"
      },
      "source": [
        "#5 : Đánh giá mô hình"
      ]
    },
    {
      "cell_type": "code",
      "metadata": {
        "id": "JQ_0gwQosTPb",
        "colab_type": "code",
        "colab": {
          "base_uri": "https://localhost:8080/",
          "height": 51
        },
        "outputId": "9429b119-aa4b-48cf-d26c-abcd49f59b27"
      },
      "source": [
        "print(\"LSTM accuracy : \",lstm.evaluate(X_test_lstm,Y_test_ohe))"
      ],
      "execution_count": 24,
      "outputs": [
        {
          "output_type": "stream",
          "text": [
            "471/471 [==============================] - 4s 8ms/step - loss: 0.4726 - accuracy: 0.8312\n",
            "LSTM accuracy :  [0.47256365418434143, 0.8311541676521301]\n"
          ],
          "name": "stdout"
        }
      ]
    },
    {
      "cell_type": "code",
      "metadata": {
        "id": "eE0__t74Lb28",
        "colab_type": "code",
        "colab": {
          "base_uri": "https://localhost:8080/",
          "height": 483
        },
        "outputId": "309d9216-8052-478b-c82f-299f4ae7aa5f"
      },
      "source": [
        "from matplotlib import pyplot as plt\n",
        "from sklearn import metrics\n",
        "y_test = Y_test_ohe.values\n",
        "predicted = lstm.predict(X_test_lstm)\n",
        "matrix = metrics.confusion_matrix(y_test.argmax(axis=1), predicted.argmax(axis=1))\n",
        "class_names =['R','java','javascript','php','python']\n",
        "fig, ax = plt.subplots(figsize=(8,8))\n",
        "sns.heatmap(matrix, annot=True,xticklabels=class_names,yticklabels=class_names,ax = ax,fmt='g',cmap='coolwarm')\n",
        "plt.show()"
      ],
      "execution_count": 40,
      "outputs": [
        {
          "output_type": "display_data",
          "data": {
            "image/png": "[encoded data removed]",
            "text/plain": [
              "<Figure size 576x576 with 2 Axes>"
            ]
          },
          "metadata": {
            "tags": [],
            "needs_background": "light"
          }
        }
      ]
    },
    {
      "cell_type": "code",
      "metadata": {
        "id": "YDq1nC4z9v19",
        "colab_type": "code",
        "colab": {
          "base_uri": "https://localhost:8080/",
          "height": 34
        },
        "outputId": "111f563a-2c3b-4ca6-d727-3836773c63a3"
      },
      "source": [
        "print(\"LogisticRegression accuracy : \",log_reg.score(X_test_cv,Y_test))"
      ],
      "execution_count": 25,
      "outputs": [
        {
          "output_type": "stream",
          "text": [
            "LogisticRegression accuracy :  0.8031459480984934\n"
          ],
          "name": "stdout"
        }
      ]
    },
    {
      "cell_type": "code",
      "metadata": {
        "id": "gRmmuvvfQfaB",
        "colab_type": "code",
        "colab": {
          "base_uri": "https://localhost:8080/",
          "height": 34
        },
        "outputId": "34d3e14f-71e6-477d-8d00-938ae4fc875a"
      },
      "source": [
        "print(\"SVM accuracy : \",svm.score(X_test_tf,Y_test))"
      ],
      "execution_count": 26,
      "outputs": [
        {
          "output_type": "stream",
          "text": [
            "SVM accuracy :  0.7811774075794783\n"
          ],
          "name": "stdout"
        }
      ]
    },
    {
      "cell_type": "markdown",
      "metadata": {
        "id": "Lb4JPM0WPExZ",
        "colab_type": "text"
      },
      "source": [
        "#6 : Lưu mô hình"
      ]
    },
    {
      "cell_type": "code",
      "metadata": {
        "id": "4WwOs9UhO6Ep",
        "colab_type": "code",
        "colab": {}
      },
      "source": [
        "import joblib\n",
        "joblib.dump(log_reg,'LogisticRegression.h5')\n",
        "joblib.dump(svm,'SVM.h5')\n",
        "lstm.save('LSTM.h5')"
      ],
      "execution_count": 27,
      "outputs": []
    }
  ]
}